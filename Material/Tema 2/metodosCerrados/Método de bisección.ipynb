{
 "cells": [
  {
   "cell_type": "markdown",
   "metadata": {
    "id": "0YeKmxZndrNK"
   },
   "source": [
    "# Método de bisección"
   ]
  },
  {
   "cell_type": "markdown",
   "metadata": {},
   "source": [
    "### Descripción"
   ]
  },
  {
   "cell_type": "markdown",
   "metadata": {},
   "source": [
    "Es un método cerrado para encontrar las **raíces reales** de una función $f(x)$.\n",
    "\n",
    ">Método cerrado: Son métodos que requieren de dos valores iniciales $x_i$ y $x_s$; el criterio para la convergencia es que en el intervalo $[x_i,x_s]$ exista una raíz. Para satisfacer el criterio de convergencia se debe cumplir: $f(x_i)f(x_s) < 0$. El funcionamiento de este tipo de métodos es ir \"encerrando\" la raíz en un intervalo que se reduce con el resultado de cada iteración.\n",
    ">> $x_i$ y $x_s$ es el limite inferior y superior respectivamente del intervalo del método."
   ]
  },
  {
   "cell_type": "markdown",
   "metadata": {},
   "source": [
    "### Explicación del método"
   ]
  },
  {
   "cell_type": "markdown",
   "metadata": {},
   "source": [
    "Teniendo los 2 valores iniciales $x_i$ y $x_s$ se calcula el punto medio $x_k$ de la siguiente manera:\n",
    "$$x_k = \\frac{x_i + x_s}{2}$$\n",
    "La función se evalua en este nuevo punto y se multiplica por $f(x_i)$ o $f(x_s)$ dependiendo del signo de la multiplicación se cambia alguno de los valor de los limites por $x_k$.\n",
    "* Opcción 1\n",
    "$$condición = f(x_k)f(x_i)$$\n",
    "\n",
    "Si $condición < 0$ entonces $x_s = x_k$\n",
    "\n",
    "Si $condición > 0$ entonces $x_i = x_k$\n",
    "\n",
    "Si $condición = 0$ entonces $x_k$ es la raíz exacta de la función.\n",
    "\n",
    "* Opcción 2\n",
    "$$condición = f(x_k)f(x_s)$$\n",
    "\n",
    "Si $condición < 0$ entonces $x_i = x_k$\n",
    "\n",
    "Si $condición > 0$ entonces $x_s = x_k$\n",
    "\n",
    "Si $condición = 0$ entonces $x_k$ es la raíz exacta de la función.\n",
    "\n",
    "Para cualquiera de las 2 opciones se repite el proceso hasta que $condición = 0$ o hasta que el error sea menor a la toleracia."
   ]
  },
  {
   "cell_type": "markdown",
   "metadata": {
    "tags": []
   },
   "source": [
    "#### Desventajas, ventajas y restricciones"
   ]
  },
  {
   "cell_type": "markdown",
   "metadata": {},
   "source": [
    "##### Desventajas\n",
    "* El método solo puede encontrar 1 raíz por intervalo.\n",
    "* El método solo puede encontrar raíces reales.\n",
    "\n",
    "##### Ventajas\n",
    "* El método es muy sencillo de implementar.\n",
    "* El método siempre converge.\n",
    "\n",
    "##### Restricciones\n",
    "* La función debe ser continua en el intervalo $[x_i,x_s]$."
   ]
  },
  {
   "cell_type": "markdown",
   "metadata": {},
   "source": [
    "### Aplicación"
   ]
  },
  {
   "cell_type": "markdown",
   "metadata": {},
   "source": [
    "En la ingeniería es muy común que tengamos que encontrar las raíces de alguna función para resolver el problema. Dependiendo de la función que querramos resolver se pueden aplicar métodos analíticos como la factorización pero en algunos casos no sera posible encontrar la raíz de manera analítica, en esos casos es cuando cobran importancia los métodos numéricos."
   ]
  },
  {
   "cell_type": "markdown",
   "metadata": {},
   "source": [
    "### Ejemplos"
   ]
  },
  {
   "cell_type": "markdown",
   "metadata": {},
   "source": [
    "* Calcula la raíz de $f(x) = sin(x)x^3$ en el intervalo $[-5, 5]$ con cualquier valor de tolerancia. Oberva en la gráfica que se tienen 3 raíces pero el método no se ejecuta ya que en los extremos del intervalo no se cumple la condición de convergencia.\n",
    "* Utiliza la misma función que en el ejemplo anterior pero modifica el intervalo a $[-5, 2]$. En la gráfica se puede ver que existen 2 raíces en el intervalo pero el método solo encuentra 1 (la más cercana a $x_i$); esto se debe a que estamos utilizando la opción 1 para cambiar los limites del intervalo.\n",
    "* Calcula la raiz de $f(x) = x^2+1$ en cualquier intervalo y tolerancia. En la gráfica se puede ver que la función no tiene raíces reales por lo que el método no puede encontrar las raíces.\n",
    "* Calcula la raíz de $sin(x)$ en el intervalo $[-5, 5]$ con $tolerancia = 0.001$. Observa que encontra una raíz exacta ya que $f(x_k) * f(x_i) = 0$"
   ]
  },
  {
   "cell_type": "markdown",
   "metadata": {},
   "source": [
    "### Código"
   ]
  },
  {
   "cell_type": "markdown",
   "metadata": {},
   "source": [
    "A continuación se muestra el código para implementar el *método de bisección*. Para utilizarlo ejecuta las 2 primeras celdas ('Importar las bibliotecas' y 'Codificando el método'), para ingresar una nueva función se debe ejecutar la celda 'Celda usuario'. Al ingresar la función se deben seguir las reglas y sintaxsis propuesta, de lo contrario se mostrara un mensaje de error. Despues de haber ingresado una función valida se deben ingresar los valores de $x_i$, $x_s$ y $tolerancia$. \n",
    "\n",
    "Nota 1: Los valores de $x_i$ y $x_s$ deben ser diferentes.\n",
    "\n",
    "Nota 2: La tolerancia debe ser un valor positivo.\n",
    "\n",
    "Nota 3: Si la función no es continua en el intervalo $[x_i,x_s]$ el método no funcionara.\n",
    "\n",
    "Nota 4: El código utiliza la opción 1 para cambiar los valores de $x_i$ y $x_s$.\n",
    "\n",
    "<img \n",
    "    src = \"../figurasTexto/df_biseccion.jpeg\"\n",
    "    heigth = \"10px\"\n",
    "/>"
   ]
  },
  {
   "cell_type": "code",
   "execution_count": null,
   "metadata": {
    "executionInfo": {
     "elapsed": 5,
     "status": "ok",
     "timestamp": 1694540436911,
     "user": {
      "displayName": "EDGAR ALI RAMOS GOMEZ",
      "userId": "05749625180522146942"
     },
     "user_tz": 360
    },
    "id": "-gRMJaSOdvSn",
    "tags": []
   },
   "outputs": [],
   "source": [
    "# Importar las librerias\n",
    "%matplotlib inline\n",
    "import matplotlib.pyplot as plt\n",
    "import sympy as sp\n",
    "from math import *\n",
    "from ipywidgets import interact, fixed\n",
    "import ipywidgets as widgets\n",
    "import sys\n",
    "sys.path.insert(0, '../../../configuracion')\n",
    "import utilidades as ut"
   ]
  },
  {
   "cell_type": "code",
   "execution_count": null,
   "metadata": {},
   "outputs": [],
   "source": [
    "# Codificando el método\n",
    "def biseccion(f, x_i, x_s, tol):\n",
    "    x_i, x_s, tol = ut.validarDatosBiseccion(x_i, x_s, tol) # Validar los datos de entrada\n",
    "    f = sp.lambdify('x', f) # Convertir la función a una función evaluable\n",
    "    ut.graficarBiseccion(f, x_i, x_s)\n",
    "    i = 0 # Contador de iteraciones\n",
    "    cumple_tolerancia = False # Variable para validar si se cumple la tolerancia\n",
    "    if(f(x_i) * f(x_s)>0): # Validar criterio de convergencia\n",
    "        print(\"No hay cambio de signo\")\n",
    "        return\n",
    "    while not cumple_tolerancia: # Mientras no se cumpla la tolerancia se ejecuta el ciclo\n",
    "        i = i + 1 # Incrementar el contador de iteraciones\n",
    "        x_k = (x_i + x_s)/2 # Calcular la nueva aproximación de la raíz\n",
    "        print(f'iteracion: {i} x: {round(x_k, 9)}') # Imprimir la aproximación de la raíz\n",
    "        if f(x_i) * f(x_k) < 0: # La raíz se encuentra en el intervalo [x_i, x_k]\n",
    "            x_s = x_k\n",
    "        elif f(x_i) * f(x_k) > 0: # La raíz se encuentra en el intervalo [x_k, x_s]\n",
    "            x_i = x_k\n",
    "        else: # La raíz es el punto medio\n",
    "            print(\"La raíz es:\",x_k)\n",
    "            print(round(x_k,9))\n",
    "        if abs(f(x_k)) < tol: # Validar si se cumple la tolerancia\n",
    "            cumple_tolerancia = True\n",
    "            print('Se cumple la tolerancia')\n",
    "    print(\"La aproximación de la raíz en la iteración\",i,\",es:\",round(x_k,9))"
   ]
  },
  {
   "cell_type": "code",
   "execution_count": null,
   "metadata": {},
   "outputs": [],
   "source": [
    "# Celda usuario\n",
    "f = ut.leerFuncion()\n",
    "if f != None:\n",
    "    interact(biseccion,\n",
    "             f = fixed(f),\n",
    "             x_i = widgets.Text(value = '-5', description = 'x_i'),\n",
    "             x_s = widgets.Text(value = '5', description = 'x_s'),\n",
    "             tol = widgets.Text(value = '0.001', description = 'tolerancia')\n",
    "    )"
   ]
  },
  {
   "cell_type": "markdown",
   "metadata": {},
   "source": [
    "### Videos de apoyo"
   ]
  },
  {
   "cell_type": "markdown",
   "metadata": {},
   "source": [
    "Ejecuta la siguiente celda para ver los videos recomendados."
   ]
  },
  {
   "cell_type": "code",
   "execution_count": null,
   "metadata": {},
   "outputs": [],
   "source": [
    "from IPython.display import YouTubeVideo\n",
    "ytv = YouTubeVideo('MUCwZKPntXg')\n",
    "ytv2 = YouTubeVideo('JEgGxnc1jWE')\n",
    "display(ytv)\n",
    "display(ytv2)"
   ]
  },
  {
   "cell_type": "markdown",
   "metadata": {},
   "source": [
    "### Referencias"
   ]
  },
  {
   "cell_type": "markdown",
   "metadata": {},
   "source": [
    "[1] Chapra, S. C., & Canale, R. P. (2011). Métodos numéricos para ingenieros (6.a ed.) [Electrónico]. [enlace](https://eds.s.ebscohost.com/eds/detail/detail?vid=2&sid=5ad28e1c-ae1c-4a2c-99e4-bd280e8b1618%40redis&bdata=Jmxhbmc9ZXMmc2l0ZT1lZHMtbGl2ZQ%3d%3d#AN=lib.MX001001698818&db=cat02025a)"
   ]
  }
 ],
 "metadata": {
  "colab": {
   "authorship_tag": "ABX9TyOEnA63JWJJusCLU8PiazU/",
   "provenance": []
  },
  "kernelspec": {
   "display_name": "Python 3 (ipykernel)",
   "language": "python",
   "name": "python3"
  },
  "language_info": {
   "codemirror_mode": {
    "name": "ipython",
    "version": 3
   },
   "file_extension": ".py",
   "mimetype": "text/x-python",
   "name": "python",
   "nbconvert_exporter": "python",
   "pygments_lexer": "ipython3",
   "version": "3.10.5"
  }
 },
 "nbformat": 4,
 "nbformat_minor": 4
}
