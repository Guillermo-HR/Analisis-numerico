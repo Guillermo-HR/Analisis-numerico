{
 "cells": [
  {
   "cell_type": "markdown",
   "id": "f5d004cc",
   "metadata": {},
   "source": [
    "# <span style=\"color:red\">Polinomio de Taylor\n"
   ]
  },
  {
   "cell_type": "markdown",
   "id": "dd0b594b",
   "metadata": {
    "jp-MarkdownHeadingCollapsed": true,
    "tags": []
   },
   "source": [
    "### Brook Taylor"
   ]
  },
  {
   "cell_type": "markdown",
   "id": "4b2d948a",
   "metadata": {},
   "source": [
    "Fue un **matemático** del siglo XVII, nació en Inglaterra el 18 de agosto de 1685 realizó varias aportaciones en diversos campos como las matemáticas y la física. Dentro de las matemáticas trabajó en las bases de lo que sería el *cálculo de diferencias finitas*; otro de sus grandes aportes fue el teorema de Taylor. (Brook Taylor | Calculus, Geometry & Physics, 2023)\n",
    "<br>![Imagen 1\\nBrook Taylor](figurasTexto/B_Taylor.jpeg)<br>\n",
    "Imagen 1<br>Brook Taylor"
   ]
  },
  {
   "cell_type": "markdown",
   "id": "cbb56ede",
   "metadata": {
    "jp-MarkdownHeadingCollapsed": true,
    "tags": []
   },
   "source": [
    "### Teorema"
   ]
  },
  {
   "cell_type": "markdown",
   "id": "0ccfeb2b",
   "metadata": {},
   "source": [
    "Sea $f$ una función continua en el intervalo $[a, b]$ y con $n + 1$ derivadas continuas en el mismo intervalo. La función se puede aproximar con un polinomio de Taylor  de grado $n$.\n"
   ]
  },
  {
   "cell_type": "markdown",
   "id": "4871c781",
   "metadata": {
    "jp-MarkdownHeadingCollapsed": true,
    "tags": []
   },
   "source": [
    "### Explicación"
   ]
  },
  {
   "cell_type": "markdown",
   "id": "71044f82",
   "metadata": {},
   "source": [
    "El *polinomio de Taylor* permite aproximar una función a través de un polinomio de grado $n$ cerca del punto $x_c$. Para deducir la fórmula del polinomio de Taylor es necesario conocer la estructura de un polinomio de grado n:\n",
    "$$P_n(x) = a_0 + a_1 x + a_2 x^2 + … a_n x^n$$\n",
    "Para aproximar una función $f(x)$ con el *polinomio de Taylor* se debe buscar una curva que se adapte lo mejor posible a la función. El primer criterio que se debe de cumplir es que en el punto de centrado $x_c$ el $P_T(c) = f(c)$; existe una cantidad infinita de rectas que pasan por el punto $(c, f(c))$. \n",
    "\n",
    "Para reducir el número de curvas que cumplan el criterio anterior y poder encontrar una que se aproxime de mejor forma a la función debemos de satisfacer el criterio de la pendiente en $c$, esto significa que el polinomio de grado 1 tenga la misma pendiente que la función en el punto de centrado. La fórmula del polinomio de grado 1 que cumple los criterios es:\n",
    "$$P_1(x) = f(c) + f´(c) (x - c)$$\n",
    "\n",
    "Este polinomio ya se aproxima de mejor forma a la función pero el radio para el cual esa aproximación es exacta es corto. Utilizando el mismo razonamiento se busca un polinomio de grado 2 que cumpla los criterios del polinomio de grado 1 y que tenga la misma curvatura. Para conseguir que tengan la misma curvatura la segunda derivada en el punto de centrado debe ser igual. La fórmula del polinomio que cumple es: \n",
    "$$P_2(x) = f(c) + f´(c) (x - c) + \\frac{f´´(x)}{2!} (x - c)^2$$\n",
    "\n",
    "Hemos logrado establecer un patrón en el cual al aumentar el grado del polinomio que utilizamos para aproximar la función se reduce el error de la aproximación para puntos más alejados de $c$.\n",
    "\n",
    "Cuando el punto de centrado es $0$ se le conoce como polinomio de MaClaurin."
   ]
  },
  {
   "cell_type": "markdown",
   "id": "03b53650",
   "metadata": {
    "jp-MarkdownHeadingCollapsed": true,
    "tags": []
   },
   "source": [
    "### Fórmula"
   ]
  },
  {
   "cell_type": "markdown",
   "id": "9d7be2e0",
   "metadata": {},
   "source": [
    "La fórmula general del polinomio de Taylor para aproximar una función $f(x)$ en el punto $x_c$ es:\n",
    "$$f(x) \\approx P_{n}(x)=f(c)+f'(c)(x-c)+\\frac{f''(c)}{2!}(x-c)^{2}+...+\\frac{f^{(k)}(c)}{k!}(x-c)^{k}+...+\\frac{f^{(n)}(c)}{n!}(x-c)^{n}$$\n",
    "Formula condensada:\n",
    "$$f(x) \\approx P_n(x) = \\sum_{k=0}^{n} \\frac{f^{(k)}(c)}{k!} (x - c)^k$$\n",
    "Para poder igular el polinomio a la función se debe agregar un residuo $R_n(x)$ que es el error de la aproximación:\n",
    "$$f(x) = P_n(x) + R_n(x)$$\n",
    "$$R_n(x) = \\frac{f^{(n+1)}(c)}{(n+1)!} (x - c)^{n+1}$$"
   ]
  },
  {
   "cell_type": "markdown",
   "id": "f073a136",
   "metadata": {
    "jp-MarkdownHeadingCollapsed": true,
    "tags": []
   },
   "source": [
    "### Aplicación "
   ]
  },
  {
   "cell_type": "markdown",
   "id": "31b0d21c",
   "metadata": {},
   "source": [
    "Al utilizar el *polinomio de Taylor* para aproximar una función tenemos la ventaja que para conocer el valor que tiene dentro de un rango de valores no es necesario evaluar en todos los puntos; solo se debe calcular el polinomio en un punto de centrado y evaluar en el punto que se desea conocer. Se debe de tener en cuenta que el error de la aproximación aumenta al alejarse del punto de centrado. Esta aplicación es muy útil en el campo de la ingeniería ya que permite aproximar funciones de forma rápida y sencilla, sobre todo cuando se tiene una función dificil de evaluar."
   ]
  },
  {
   "cell_type": "markdown",
   "id": "1d0c1f17",
   "metadata": {},
   "source": [
    "### Ejemplos"
   ]
  },
  {
   "cell_type": "markdown",
   "id": "6e7f3737",
   "metadata": {},
   "source": [
    "* Aproxima $f(x) = sin(x)$ centrada en $c = 2$ con un polinomio de grado 3 y 7. Observa como el rango para el cual la aproximación es buena es mayor en el polinomio de grado 7.\n",
    "* Aproxima $f(x) = x^3$ con un polinomio de Maclaurin de grado 2, 3, 4 y 10. Observa que desde el polinomio de grado 3 la aproximación es exacta. Esto es un ejemplo que muestra que no siempre se necesita un polinomio de grado alto para aproximar una función.\n",
    "* Aproxima $f(x) = ln(x)$ con un polinomio de grado 14 centrado en $c = 5.1$ y $c = 10$. Observa que el rango para el cual la aproximacion es buena es mayor en el punto de centrado $c = 10$."
   ]
  },
  {
   "cell_type": "markdown",
   "id": "d0356c37",
   "metadata": {
    "tags": []
   },
   "source": [
    "### Código"
   ]
  },
  {
   "cell_type": "markdown",
   "id": "6ad1c074-5370-4a4f-978f-240312b38d2a",
   "metadata": {},
   "source": [
    "A continuación se presenta el código para calcular y graficar el *polinomio de Taylor*.\n",
    "Para utilizarlo ejecuta las 2 primeras celdas ('Importar las bibliotecas' y 'Codificando el polinomio'), para ingresar una nueva función se debe ejecutar la celda 'Celda usuario'. Al ingresar la función se deben seguir las reglas y sintaxsis propuesta, de lo contrario se mostrara un mensaje de error. Cuando se ingrese una función correcta utiliza el slider para seleccionar el punto de centrado $c$ y de la lista $n$ selecciona máximo 8 valores, para elegir valores separados manten presionada la tecla control. Para guardar las gráficas generadas activa el recuadro 'Guardar resultados' ten en cuenta que mientras este activado cada cambio en $c$ o $n$ se guardara. En la parte superior encontraras el (los) polinomios como texto.\n",
    "\n",
    "Nota 1: En algunos casos el polinomio de Taylor no se puede calcular, esto se debe a que la función no es continua en el punto de centrado o no tiene derivadas continuas en el intervalo. En estos casos se muestra un mensaje de error. Por lo general la solución es cambiar el punto de centrado.\n",
    "\n",
    "Nota 2: Cuando se seleccionan varios valores de $n$ o alguna $n$ grande la actualización de las gráficas puede tardar un poco, debido a la cantidad de operaciones que se deben ejecutar. Este problema no tiene solucion solo se debe esperar."
   ]
  },
  {
   "cell_type": "code",
   "execution_count": null,
   "id": "eabeb0e5",
   "metadata": {
    "jupyter": {
     "source_hidden": true
    },
    "tags": []
   },
   "outputs": [],
   "source": [
    "# Importar las librerias\n",
    "%matplotlib inline\n",
    "import matplotlib.pyplot as plt\n",
    "import sympy as sp\n",
    "from sympy import UnevaluatedExpr\n",
    "from sympy.abc import x, c\n",
    "import numpy as np\n",
    "from math import *\n",
    "from ipywidgets import interact, interactive, fixed, interact_manual\n",
    "import ipywidgets as widgets\n",
    "import sys\n",
    "sys.path.insert(0, '../../configuracion')\n",
    "import utilidades as ut"
   ]
  },
  {
   "cell_type": "code",
   "execution_count": null,
   "id": "f0481a09",
   "metadata": {
    "tags": []
   },
   "outputs": [],
   "source": [
    "# Codificando el polinomio \n",
    "def crearPolinomioTaylor(f, c, n):\n",
    "    polinomio = f.subs(x, UnevaluatedExpr(c))\n",
    "    for j in range(1, n + 1):\n",
    "        polinomio += (sp.diff(f, x, j).subs(x, UnevaluatedExpr(c)) / factorial(j)) * (x - UnevaluatedExpr(c)) ** j\n",
    "    polinomio_evaluar = sp.lambdify(x, polinomio, 'numpy')\n",
    "    return polinomio, polinomio_evaluar\n",
    "\n",
    "def Polinomio_Taylor(f, c, n, guardar = False): \n",
    "    c = np.round(c, 2)\n",
    "    valores_x = np.linspace(c - 5, c + 10, 500) if c != 0 else np.linspace(-5, 10, 500)\n",
    "    resultados = []\n",
    "    errores_abs = []\n",
    "    errores_rel = []\n",
    "    f_real = sp.lambdify(x, f, 'numpy')\n",
    "    if np.isnan(f_real(c)) or np.isinf(f_real(c)):\n",
    "        print('La funcion no esta definida para el punto c, se debe cambiar el punto c.')\n",
    "        return\n",
    "    y_real = list(map(f_real, valores_x))\n",
    "    if np.isnan(y_real).any() or np.isinf(y_real).any():\n",
    "        valores_x, y_real = ut.quitarNan(valores_x, y_real)\n",
    "        print('Se encontraron valores NaN en la función, se quitaron los valores NaN. Ignorar este mensaje y el anterior.\\n\\n')\n",
    "    resultados.append([list(valores_x), y_real, f'f(x) = {f}'])\n",
    "    min_y = min(y_real)\n",
    "    max_y = max(y_real)\n",
    "    min_y = min_y - 0.1 * abs(min_y)\n",
    "    max_y = max_y + 0.1 * abs(max_y)\n",
    "    for grado in n:\n",
    "        polinomio, pTaylor = crearPolinomioTaylor(f, c, grado)\n",
    "        print(f'P_{grado}(x) = {polinomio}')\n",
    "        y_calculada = list(map(pTaylor, valores_x))\n",
    "        resultados.append([list(valores_x), y_calculada, f'Grado {grado}'])\n",
    "        errores_abs.append([list(valores_x), list(map(ut.errorAbsoluto, y_real, y_calculada)), f'Grado {grado}'])\n",
    "        errores_rel.append([list(valores_x), list(map(ut.errorRelativo, y_real, y_calculada)), f'Grado {grado}'])\n",
    "    try:\n",
    "        imgPolinomio = [ut.graficar(f'Polinomio de Taylor grado(s):\\n{n}', *resultados, puntos = [(c, f_real(c), f'c = {c}')], ylim = (min_y, max_y)), 'polinomios']\n",
    "        imgEA = [ut.graficar(f'Errores absolutos del polinomio de Taylor grado(s):\\n{n}', *errores_abs, ylabel = 'Error absoluto', colores = ut.colores[1 : len(n) + 1]), 'errores_absolutos']\n",
    "        imgER = [ut.graficar(f'Errores relativos del polinomio de Taylor grado(s):\\n{n}', *errores_rel, ylabel = 'Error relativo', colores = ut.colores[1 : len(n) + 1]), 'errores_relativos']\n",
    "        if guardar:\n",
    "            ut.guardarImagenes('Polinomio_de_Taylor', imgPolinomio, imgEA, imgER)\n",
    "    except:\n",
    "        print('No se pudo graficar')"
   ]
  },
  {
   "cell_type": "code",
   "execution_count": null,
   "id": "42df7db3-fb3f-4530-9f73-e6368f8c8686",
   "metadata": {
    "tags": []
   },
   "outputs": [],
   "source": [
    "# Celda usuario\n",
    "f = ut.leerFuncion()\n",
    "if f != None:\n",
    "    interact(Polinomio_Taylor,\n",
    "             f = fixed(f),\n",
    "             c = widgets.FloatSlider(min = -10, max = 10, step = 0.1, value = 1),\n",
    "             n = widgets.SelectMultiple(options = [n_ for n_ in range(1, 15)], value = [2], description = 'Grados'),\n",
    "             guardar = widgets.Checkbox(value = False, description = 'Guardar resultados'))"
   ]
  },
  {
   "cell_type": "markdown",
   "id": "94b28c00",
   "metadata": {
    "jp-MarkdownHeadingCollapsed": true,
    "tags": []
   },
   "source": [
    "### Vídeos de apoyo"
   ]
  },
  {
   "cell_type": "markdown",
   "id": "32c6cde1-91b4-4dfb-89a2-1db35257786f",
   "metadata": {
    "tags": []
   },
   "source": [
    "Ejecuta la siguiente celda para ver los videos recomendados."
   ]
  },
  {
   "cell_type": "code",
   "execution_count": null,
   "id": "423f8416",
   "metadata": {
    "tags": []
   },
   "outputs": [],
   "source": [
    "from IPython.display import YouTubeVideo\n",
    "ytv = YouTubeVideo('DvkZwX2ixOM')\n",
    "ytv2 = YouTubeVideo('fzP0HSPvWjE')\n",
    "display(ytv)\n",
    "display(ytv2)"
   ]
  },
  {
   "cell_type": "markdown",
   "id": "7d398a10",
   "metadata": {},
   "source": [
    "### Referencias"
   ]
  },
  {
   "cell_type": "markdown",
   "id": "1b63d8b8",
   "metadata": {},
   "source": [
    "   [1] The Editors of Encyclopaedia Britannica. (2023, 14 agosto). Brook Taylor | Calculus, Geometry & Physics. Encyclopedia Britannica. Retrieved September 7, 2023, from [https://www.britannica.com/biography/Brook-Taylor](https://www.britannica.com/biography/Brook-Taylor)\n",
    "   \n",
    "   [2] Brisset, J. (2006). Polinomios de Taylor. ANEP. Retrieved September 7, 2023, from [https://anep.edu.uy/ipa-fisica/document/material/segundo/mat_2/teorico/taylor.pdf](https://anep.edu.uy/ipa-fisica/document/material/segundo/mat_2/teorico/taylor.pdf)\n",
    "   "
   ]
  }
 ],
 "metadata": {
  "kernelspec": {
   "display_name": "Python 3 (ipykernel)",
   "language": "python",
   "name": "python3"
  },
  "language_info": {
   "codemirror_mode": {
    "name": "ipython",
    "version": 3
   },
   "file_extension": ".py",
   "mimetype": "text/x-python",
   "name": "python",
   "nbconvert_exporter": "python",
   "pygments_lexer": "ipython3",
   "version": "3.10.5"
  }
 },
 "nbformat": 4,
 "nbformat_minor": 5
}
