{
 "cells": [
  {
   "cell_type": "markdown",
   "metadata": {},
   "source": [
    "# Métodos numéricos para resolver ecuaciones diferenciales ordinarias"
   ]
  },
  {
   "cell_type": "markdown",
   "metadata": {},
   "source": [
    "Se presentan los siguientes métodos:\n",
    "* Polinomio de Taylor\n",
    "* Euler\n",
    "* Euler modificado\n",
    "* Runge-Kutta de orden 4"
   ]
  },
  {
   "cell_type": "markdown",
   "metadata": {},
   "source": [
    "### Euler"
   ]
  },
  {
   "cell_type": "code",
   "execution_count": null,
   "metadata": {},
   "outputs": [],
   "source": [
    "# Importar las bibliotecas\n",
    "from sympy import lambdify, sympify # ¡¡¡NO MODIFICAR!!!\n",
    "from sympy.abc import x, y # ¡¡¡NO MODIFICAR!!!\n",
    "import matplotlib.pyplot as plt # ¡¡¡NO MODIFICAR!!!\n",
    "\n",
    "# Definir las constantes\n",
    "h = 0.05 # Tamaño del paso\n",
    "n = 200 # Número de pasos\n",
    "x0 = 0 # Valor inicial de x\n",
    "y0 = 1 # Valor inicial de y\n",
    "valores_x = [x0 + i*h for i in range(n+1)] # Lista de valores de x ¡¡¡NO MODIFICAR!!!\n",
    "valores_y_Euler = [y0] # Lista de valores de y ¡¡¡NO MODIFICAR!!!\n",
    "\n",
    "# Definir la funcion f(x)\n",
    "funcion = 'cos(x)'\n",
    "f = lambdify([x, y], sympify(funcion), 'numpy') # Funcion f(x, y) en formato numpy ¡¡¡NO MODIFICAR!!!\n",
    "\n",
    "# Método\n",
    "for i in range(n):\n",
    "    y_nueva = valores_y_Euler[i] + h * f(valores_x[i], valores_y_Euler[i]) # ¡¡¡NO MODIFICAR!!!\n",
    "    valores_y_Euler.append(y_nueva) # ¡¡¡NO MODIFICAR!!!\n",
    "\n",
    "# Graficar\n",
    "fig, ax = plt.subplots(figsize=(15, 6)) # ¡¡¡NO MODIFICAR!!!\n",
    "titulo = f'Método de Euler para $f(x) = {funcion}$\\ncon h = {h} y n = {n}' # ¡¡¡NO MODIFICAR!!!\n",
    "eje_x = 'x' # Nombre del eje x\n",
    "eje_y = 'f(x)' # Nombre del eje y\n",
    "ax.plot(valores_x, valores_y_Euler, label = 'Euler', color = 'darkorange', marker = 'd', linestyle = (0, (1, 4)), linewidth=1, markersize = 2.5) # ¡¡¡NO MODIFICAR!!!\n",
    "ax.set(title = titulo, xlabel = eje_x, ylabel = eje_y) # ¡¡¡NO MODIFICAR!!!\n",
    "ax.grid(True) # ¡¡¡NO MODIFICAR!!!"
   ]
  },
  {
   "cell_type": "markdown",
   "metadata": {},
   "source": [
    "### Euler modificado"
   ]
  },
  {
   "cell_type": "code",
   "execution_count": null,
   "metadata": {},
   "outputs": [],
   "source": [
    "# Importar las bibliotecas\n",
    "from sympy import lambdify, sympify # ¡¡¡NO MODIFICAR!!!\n",
    "from sympy.abc import x, y # ¡¡¡NO MODIFICAR!!!\n",
    "import matplotlib.pyplot as plt # ¡¡¡NO MODIFICAR!!!\n",
    "\n",
    "# Definir las constantes\n",
    "h = 0.05 # Tamaño del paso\n",
    "n = 200 # Número de pasos\n",
    "x0 = 0 # Valor inicial de x\n",
    "y0 = 1 # Valor inicial de y\n",
    "valores_x = [x0 + i*h for i in range(n+1)] # Lista de valores de x ¡¡¡NO MODIFICAR!!!\n",
    "valores_y_EulerM = [y0] # Lista de valores de y ¡¡¡NO MODIFICAR!!!\n",
    "\n",
    "# Definir la funcion f(x)\n",
    "funcion = 'cos(x)'\n",
    "f = lambdify([x, y], sympify(funcion), 'numpy') # Funcion f(x, y) en formato numpy ¡¡¡NO MODIFICAR!!!\n",
    "\n",
    "# Método\n",
    "for i in range(n):\n",
    "    y_nueva = valores_y_EulerM[i] + h * f(valores_x[i] + h/2, valores_y_EulerM[i] + h/2 * f(valores_x[i], valores_y_EulerM[i])) # ¡¡¡NO MODIFICAR!!!\n",
    "    valores_y_EulerM.append(y_nueva) # ¡¡¡NO MODIFICAR!!!\n",
    "\n",
    "# Graficar\n",
    "fig, ax = plt.subplots(figsize=(15, 6)) # ¡¡¡NO MODIFICAR!!!\n",
    "titulo = f'Método de Euler modificado para $f(x) = {funcion}$\\ncon h = {h} y n = {n}' # ¡¡¡NO MODIFICAR!!!\n",
    "eje_x = 'x' # Nombre del eje x\n",
    "eje_y = 'f(x)' # Nombre del eje y\n",
    "ax.plot(valores_x, valores_y_EulerM, label = 'Euler', color = 'olive', marker = 'd', linestyle = (0, (1, 4)), linewidth=1, markersize = 2.5) # ¡¡¡NO MODIFICAR!!!\n",
    "ax.set(title = titulo, xlabel = eje_x, ylabel = eje_y) # ¡¡¡NO MODIFICAR!!!\n",
    "ax.grid(True) # ¡¡¡NO MODIFICAR!!!"
   ]
  },
  {
   "cell_type": "markdown",
   "metadata": {},
   "source": [
    "## Runge-Kutta de orden 4"
   ]
  },
  {
   "cell_type": "code",
   "execution_count": null,
   "metadata": {},
   "outputs": [],
   "source": [
    "# Importar las bibliotecas\n",
    "from sympy import lambdify, sympify # ¡¡¡NO MODIFICAR!!!\n",
    "from sympy.abc import x, y # ¡¡¡NO MODIFICAR!!!\n",
    "import matplotlib.pyplot as plt # ¡¡¡NO MODIFICAR!!!\n",
    "\n",
    "# Definir las constantes\n",
    "h = 0.05 # Tamaño del paso\n",
    "n = 200 # Número de pasos\n",
    "x0 = 0 # Valor inicial de x\n",
    "y0 = 1 # Valor inicial de y\n",
    "valores_x = [x0 + i*h for i in range(n+1)] # Lista de valores de x ¡¡¡NO MODIFICAR!!!\n",
    "valores_y_RK4 = [y0] # Lista de valores de y ¡¡¡NO MODIFICAR!!!\n",
    "\n",
    "# Definir la funcion f(x)\n",
    "funcion = 'cos(x)'\n",
    "f = lambdify([x, y], sympify(funcion), 'numpy') # Funcion f(x, y) en formato numpy ¡¡¡NO MODIFICAR!!!\n",
    "\n",
    "# Método\n",
    "for i in range(n):\n",
    "    k1 = h * f(valores_x[i], valores_y_RK4[i]) # ¡¡¡NO MODIFICAR!!!\n",
    "    k2 = h * f(valores_x[i] + h/2, valores_y_RK4[i] + k1/2) # ¡¡¡NO MODIFICAR!!!\n",
    "    k3 = h * f(valores_x[i] + h/2, valores_y_RK4[i] + k2/2) # ¡¡¡NO MODIFICAR!!!\n",
    "    k4 = h * f(valores_x[i] + h, valores_y_RK4[i] + k3) # ¡¡¡NO MODIFICAR!!!\n",
    "    y_nueva = valores_y_RK4[i] + 1/6 * (k1 + 2*k2 + 2*k3 + k4) # ¡¡¡NO MODIFICAR!!!\n",
    "    valores_y_RK4.append(y_nueva) # ¡¡¡NO MODIFICAR!!!\n",
    "\n",
    "# Graficar\n",
    "fig, ax = plt.subplots(figsize=(15, 6)) # ¡¡¡NO MODIFICAR!!!\n",
    "titulo = f'Método de Euler modificado para $f(x) = {funcion}$\\ncon h = {h} y n = {n}' # ¡¡¡NO MODIFICAR!!!\n",
    "eje_x = 'x' # Nombre del eje x\n",
    "eje_y = 'f(x)' # Nombre del eje y\n",
    "ax.plot(valores_x, valores_y_RK4, label = 'Euler', color = 'indigo', marker = 'd', linestyle = (0, (1, 4)), linewidth=1, markersize = 2.5) # ¡¡¡NO MODIFICAR!!!\n",
    "ax.set(title = titulo, xlabel = eje_x, ylabel = eje_y) # ¡¡¡NO MODIFICAR!!!\n",
    "ax.grid(True) # ¡¡¡NO MODIFICAR!!!"
   ]
  },
  {
   "cell_type": "markdown",
   "metadata": {},
   "source": [
    "## Comparacion de los metodos"
   ]
  },
  {
   "cell_type": "code",
   "execution_count": null,
   "metadata": {},
   "outputs": [],
   "source": [
    "# Graficar todas las aproximaciones\n",
    "fig, ax = plt.subplots(figsize=(15, 6)) # ¡¡¡NO MODIFICAR!!!\n",
    "titulo = f'Comparación de los métodos numéricos para $f(x) = {funcion}$\\ncon h = {h} y n = {n}' # ¡¡¡NO MODIFICAR!!!\n",
    "eje_x = 'x' # Nombre del eje x\n",
    "eje_y = 'f(x)' # Nombre del eje y\n",
    "ax.plot(valores_x, valores_y_Euler, label = 'Euler', color = 'darkorange', marker = 'd', linestyle = (0, (1, 4)), linewidth=1, markersize = 2.5) # ¡¡¡NO MODIFICAR!!!\n",
    "ax.plot(valores_x, valores_y_EulerM, label = 'Euler modificado', color = 'olive', marker = 'd', linestyle = (0, (1, 4)), linewidth=1, markersize = 2.5) # ¡¡¡NO MODIFICAR!!!\n",
    "ax.plot(valores_x, valores_y_RK4, label = 'Runge-Kutta 4', color = 'indigo', marker = 'd', linestyle = (0, (1, 4)), linewidth=1, markersize = 2.5) # ¡¡¡NO MODIFICAR!!!\n",
    "ax.set(title = titulo, xlabel = eje_x, ylabel = eje_y) # ¡¡¡NO MODIFICAR!!!\n",
    "ax.legend() # ¡¡¡NO MODIFICAR!!!\n",
    "ax.grid(True) # ¡¡¡NO MODIFICAR!!!"
   ]
  }
 ],
 "metadata": {
  "kernelspec": {
   "display_name": ".venv",
   "language": "python",
   "name": "python3"
  },
  "language_info": {
   "codemirror_mode": {
    "name": "ipython",
    "version": 3
   },
   "file_extension": ".py",
   "mimetype": "text/x-python",
   "name": "python",
   "nbconvert_exporter": "python",
   "pygments_lexer": "ipython3",
   "version": "3.9.15"
  }
 },
 "nbformat": 4,
 "nbformat_minor": 2
}
