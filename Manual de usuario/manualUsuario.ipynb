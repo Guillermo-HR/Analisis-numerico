{
 "cells": [
  {
   "cell_type": "markdown",
   "metadata": {},
   "source": [
    "# Manual de usuario"
   ]
  },
  {
   "cell_type": "markdown",
   "metadata": {},
   "source": [
    "## Generalidades"
   ]
  },
  {
   "cell_type": "markdown",
   "metadata": {},
   "source": [
    "### ¿Qué es  jupyter notebook?"
   ]
  },
  {
   "cell_type": "markdown",
   "metadata": {},
   "source": [
    "Un cuaderno de *jupyter* es un conjunto de celdas donde se puede incluir: texto, imágenes, videos o código en distintos lenguajes de programación. Este tipo de materiales tiene la ventaja que es interactivo ya que el código puede ser ejecutado y está acompañado de texto explicando el código, proceso o resultado. Gracias a esta característica los *jupyter notebooks* son una excelente herramienta para la enseñanza y han demostrado tener muy buenos resultados en áreas como la ingeniería."
   ]
  },
  {
   "cell_type": "markdown",
   "metadata": {},
   "source": [
    "### ¿Que es jupyter lab?"
   ]
  },
  {
   "cell_type": "markdown",
   "metadata": {},
   "source": [
    "Es una interfaz de desarrollo donde se pueden almacenar varios cuadernos de *jupyter* y otro tipo de archivos como pdf, hojas de cálculo, scripts de python, etcétera.\n"
   ]
  },
  {
   "cell_type": "markdown",
   "metadata": {},
   "source": [
    "### ¿Que es mybinder?"
   ]
  },
  {
   "cell_type": "markdown",
   "metadata": {},
   "source": [
    "Es una plataforma web que permite almacenar un entorno de *jupyter lab* y ejecutarlo sin necesidad de instalar software como Anaconda o Visual Studio Code."
   ]
  },
  {
   "cell_type": "markdown",
   "metadata": {},
   "source": [
    "### Uso de los materiales"
   ]
  },
  {
   "cell_type": "markdown",
   "metadata": {},
   "source": [
    "Todos los materiales de este proyecto siguen la siguiente estructura: \n",
    "<img\n",
    "    src = \"figurasTexto/organizacion.png\"\n",
    "    heigth = \"10px\"\n",
    "/>\n",
    "Figura 1: Ejemplo de la organización de los cuadernos\n",
    "<br><br>En las primeras secciones se describe de forma general el método, se presentan las ecuaciones de recurrencia, ventajas, desventajas, restricciones y aplicación del método. Posteriormente se proponen ejemplos con distintos objetivos tales como: mostrar casos donde no se puede aplicar el método, casos donde no converge, comparación al variar valores iniciales, etcétera. En la siguiente sección se encuentra el código donde se implementa el método, diagrama de flujo, instrucciones para ejecutar el código y cualquier nota relevante sobre el uso del programa. Finalmente se incluyen videos de apoyo con una explicación más extensa del método y las referencias utilizadas para crear el cuaderno."
   ]
  },
  {
   "cell_type": "markdown",
   "metadata": {},
   "source": [
    "### Ejecutar celdas de código"
   ]
  },
  {
   "cell_type": "markdown",
   "metadata": {},
   "source": [
    "Las celdas de código se distinguen de las celdas de texto ya que tienen el fondo gris. Para ejecutar una celda se debe estar posicionado en esta y presionar el botón de *ejecutar* en la parte superior (ver flecha roja en Figura 2).\n",
    "<img\n",
    "    src = \"figurasTexto/ejecutar.png\"\n",
    "    heigth = \"10px\"\n",
    "/>\n",
    "Figura 2: Cómo ejecutar una celda de código\n",
    "<br><br>Si aparece la ventana: “*Select kernel*” seleccione la opción *Pyton 3 (ipykernel)* y presione el botón *select* como se muestra en la Figura 3.<br>\n",
    "<img\n",
    "    src = \"figurasTexto/kernel.png\"\n",
    "    heigth = \"10px\"\n",
    "/>\n",
    "<br>Figura 3: Seleccionar kernel"
   ]
  },
  {
   "cell_type": "markdown",
   "metadata": {},
   "source": [
    "### Ocultar y mostrar celdas o secciones"
   ]
  },
  {
   "cell_type": "markdown",
   "metadata": {},
   "source": [
    "Para poder navegar con mayor facilidad dentro del cuaderno se pueden ocultar algunas celdas o secciones (bloques de celdas). Para ocultar una sección se debe presionar el triángulo que se encuentra a la izquierda del nombre de la sección (ver la flecha roja de la Figura 4). Para ocultar una celda se debe presionar el rectángulo azul que se encuentra a la izquierda de la celda (ver la flecha azul de la Figura 4). Si una celda o sección está oculta se realiza el mismo procedimiento para mostrarla.\n",
    "<img\n",
    "    src = \"figurasTexto/ocultar_mostrar.png\"\n",
    "    heigth = \"10px\"\n",
    "/>\n",
    "Figura 4: Ejemplo para ocultar o mostrar celdas y secciones.\n"
   ]
  },
  {
   "cell_type": "markdown",
   "metadata": {},
   "source": [
    "### Navegación dentro de las carpetas"
   ]
  },
  {
   "cell_type": "markdown",
   "metadata": {},
   "source": [
    "Para navegar entre las carpetas y cuadernos del proyecto abra explorador de archivos en la barra lateral izquierda (ver flecha morada de la Figura 5) y seleccione la carpeta o archivo que desee abrir. Para ocultar la barra lateral presione el mismo icono. <br>\n",
    "<img\n",
    "    src = \"figurasTexto/carpetas.png\"\n",
    "    heigth = \"10px\"\n",
    "/>\n",
    "<br>Figura 5: Mostrar barra lateral para navegar carpetas\n"
   ]
  },
  {
   "cell_type": "markdown",
   "metadata": {},
   "source": [
    "### Solución de problemas"
   ]
  },
  {
   "cell_type": "markdown",
   "metadata": {},
   "source": [
    "Si al ejecutar el código se genera un error es importante leer este mensaje de error ya que indica la naturaleza del problema por lo general división entre 0. Si este es el caso dependiendo del método se puede cambiar alguno de los parámetros o puede significar que el método no es aplicable.\n",
    "<br>Si el programa se queda pasmado o no responde abre el menú de kernels de la barra lateral (ver flecha morada de la Figura 6) y reinicia el kernel del cuaderno que tenga problemas. En este ejemplo se va a reiniciar el kernel del método de bisección (ver flecha azul de la Figura 6).<br>\n",
    "<img\n",
    "    src = \"figurasTexto/reiniciar_kernel.png\"\n",
    "    heigth = \"10px\"\n",
    "/>\n",
    "<br>Figura 6: Reiniciar kernel\n"
   ]
  },
  {
   "cell_type": "markdown",
   "metadata": {},
   "source": [
    "## Empiece a utilizar los materiales"
   ]
  },
  {
   "cell_type": "markdown",
   "metadata": {},
   "source": [
    "Para poder ver todos los materiales debe navegar hasta la carpeta *Materiales* para hacer esto siga los siguientes pasos: <br>\n",
    "<br>Paso 1: abra el el explorador de archivos (flecha azul Figura 7)\n",
    "<img\n",
    "    src = \"figurasTexto/carpetas 2.png\"\n",
    "    heigth = \"10px\"\n",
    "/> <br>\n",
    "Figura 7: Paso 1<br>\n",
    "<br>Paso 2: cambie a la carpeta raíz (flecha azul Figura 8) <br>\n",
    "<img\n",
    "    src = \"figurasTexto/c_manualUsuario.png\"\n",
    "    heigth = \"10px\"\n",
    "/> <br>\n",
    "Figura 8: Paso 2<br>\n",
    "<br>Paso 3: abra la carpeta “Material” (flecha azul Figura 9)<br>\n",
    "<img\n",
    "    src = \"figurasTexto/c_root.png\"\n",
    "    heigth = \"10px\"\n",
    "/> <br>\n",
    "Figura 9: Paso 3<br>\n",
    "<br>Paso 4: abra la carpeta correspondiente al tema que desee ver<br>\n",
    "<img\n",
    "    src = \"figurasTexto/c_materiales.png\"\n",
    "    heigth = \"10px\"\n",
    "/> <br>\n",
    "Figura 10: Paso 4<br>\n",
    "<br>Paso 4.5: internamente puede haber subcarpetas si es el caso abra la carpeta correspondiente (Figura 11)<br>\n",
    "<img\n",
    "    src = \"figurasTexto/c_tema2.png\"\n",
    "    heigth = \"10px\"\n",
    "/> <br>\n",
    "Figura 11: Organización interna de las carpetas\n"
   ]
  },
  {
   "cell_type": "markdown",
   "metadata": {},
   "source": [
    "## Referencias"
   ]
  },
  {
   "cell_type": "markdown",
   "metadata": {},
   "source": [
    "[1] Cardoso, A., Leitão, J., & Teixeira, C. (2019). Using the Jupyter notebook as a tool to support the teaching and learning processes in engineering courses. In The Challenges of the Digital Transformation in Education: Proceedings of the 21st International Conference on Interactive Collaborative Learning (ICL2018)-Volume 2 (pp. 227-236). Springer International Publishing. [enlace](https://link.springer.com/chapter/10.1007/978-3-030-11935-5_22)"
   ]
  }
 ],
 "metadata": {
  "language_info": {
   "name": "python"
  }
 },
 "nbformat": 4,
 "nbformat_minor": 2
}
